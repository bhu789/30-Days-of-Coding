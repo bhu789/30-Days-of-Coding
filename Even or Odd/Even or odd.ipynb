{
 "cells": [
  {
   "cell_type": "markdown",
   "metadata": {},
   "source": [
    " # Question: Even Or Odd digit Sum"
   ]
  },
  {
   "cell_type": "markdown",
   "metadata": {},
   "source": []
  },
  {
   "cell_type": "markdown",
   "metadata": {},
   "source": [
    "# example:\n",
    "input:\n",
    "a=234\n",
    "b=\"odd\"\n",
    "output:\n",
    "3\n",
    "\n",
    "input:\n",
    "a=234\n",
    "b=\"even\"\n",
    "output:\n",
    "6\n"
   ]
  },
  {
   "cell_type": "code",
   "execution_count": 9,
   "metadata": {},
   "outputs": [
    {
     "name": "stdout",
     "output_type": "stream",
     "text": [
      "enter an integer:344\n",
      "Enter either odd or even:odd\n",
      "3\n"
     ]
    }
   ],
   "source": [
    "input1=int(input(\"enter an integer:\", ))\n",
    "input2=input(\"Enter either odd or even:\",)\n",
    "sum=0\n",
    "empty_list=[]\n",
    "while(input1>0):\n",
    "    c=input1%10\n",
    "    input1=input1//10\n",
    "    empty_list.append(c)\n",
    "if input2==\"even\":\n",
    "    for i in empty_list:\n",
    "        if i%2==0 or i==0:\n",
    "            sum+=i\n",
    "elif input2==\"odd\":\n",
    "    for i in empty_list:\n",
    "        if i%2!=0:\n",
    "            sum+=i\n",
    "print(sum)\n",
    "    \n"
   ]
  },
  {
   "cell_type": "code",
   "execution_count": null,
   "metadata": {},
   "outputs": [],
   "source": []
  },
  {
   "cell_type": "code",
   "execution_count": null,
   "metadata": {},
   "outputs": [],
   "source": []
  }
 ],
 "metadata": {
  "kernelspec": {
   "display_name": "Python 3",
   "language": "python",
   "name": "python3"
  },
  "language_info": {
   "codemirror_mode": {
    "name": "ipython",
    "version": 3
   },
   "file_extension": ".py",
   "mimetype": "text/x-python",
   "name": "python",
   "nbconvert_exporter": "python",
   "pygments_lexer": "ipython3",
   "version": "3.7.4"
  }
 },
 "nbformat": 4,
 "nbformat_minor": 2
}
